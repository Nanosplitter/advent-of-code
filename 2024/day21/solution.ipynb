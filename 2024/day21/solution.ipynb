{
 "cells": [
  {
   "cell_type": "code",
   "execution_count": 1,
   "metadata": {},
   "outputs": [],
   "source": [
    "N_PAD = {\n",
    "    \"0\": [(\"2\", \"^\"), (\"A\", \">\")],\n",
    "    \"1\": [(\"2\", \">\"), (\"4\", \"^\")],\n",
    "    \"2\": [(\"0\", \"v\"), (\"1\", \"<\"), (\"3\", \">\"), (\"5\", \"^\")],\n",
    "    \"3\": [(\"2\", \"<\"), (\"6\", \"^\"), (\"A\", \"v\")],\n",
    "    \"4\": [(\"1\", \"v\"), (\"5\", \">\"), (\"7\", \"^\")],\n",
    "    \"5\": [(\"2\", \"v\"), (\"4\", \"<\"), (\"6\", \">\"), (\"8\", \"^\")],\n",
    "    \"6\": [(\"3\", \"v\"), (\"5\", \"<\"), (\"9\", \"^\")],\n",
    "    \"7\": [(\"4\", \"v\"), (\"8\", \">\")],\n",
    "    \"8\": [(\"5\", \"v\"), (\"7\", \"<\"), (\"9\", \">\")],\n",
    "    \"9\": [(\"6\", \"v\"), (\"8\", \"<\")],\n",
    "    \"A\": [(\"0\", \"<\"), (\"3\", \"^\")],\n",
    "}\n",
    "D_PAD = {\n",
    "    \"^\": [(\"A\", \">\"), (\"v\", \"v\")],\n",
    "    \"<\": [(\"v\", \">\")],\n",
    "    \"v\": [(\"<\", \"<\"), (\"^\", \"^\"), (\">\", \">\")],\n",
    "    \">\": [(\"v\", \"<\"), (\"A\", \"^\")],\n",
    "    \"A\": [(\"^\", \"<\"), (\">\", \"v\")],\n",
    "}\n",
    "PADS = [N_PAD] + [D_PAD] * 24"
   ]
  },
  {
   "cell_type": "code",
   "execution_count": 2,
   "metadata": {},
   "outputs": [],
   "source": [
    "from collections import defaultdict\n",
    "from functools import cache, lru_cache\n",
    "from itertools import product\n",
    "import sys"
   ]
  },
  {
   "cell_type": "code",
   "execution_count": 3,
   "metadata": {},
   "outputs": [],
   "source": [
    "num_paths_cache = defaultdict(None)\n",
    "key_paths_cache = defaultdict(None)"
   ]
  },
  {
   "cell_type": "code",
   "execution_count": 4,
   "metadata": {},
   "outputs": [],
   "source": [
    "@cache\n",
    "def bfs(pad_type, start, target, visited=(), path=()):\n",
    "    if start == target:\n",
    "        return [path]\n",
    "    if start in visited:\n",
    "        return []\n",
    "    \n",
    "    all_paths = []\n",
    "    for next, dir in PADS[pad_type][start]:\n",
    "        new_paths = bfs(pad_type, next, target, visited + (start,), path + (dir,))\n",
    "        if new_paths:\n",
    "            all_paths.extend(new_paths)\n",
    "    \n",
    "    if all_paths:\n",
    "        min_turns = min(sum(1 for i in range(1, len(p)) if p[i] != p[i-1]) for p in all_paths)\n",
    "        min_turn_paths = [p for p in all_paths if sum(1 for i in range(1, len(p)) if p[i] != p[i-1]) == min_turns]\n",
    "        return min_turn_paths\n",
    "\n",
    "    return []"
   ]
  },
  {
   "cell_type": "code",
   "execution_count": 5,
   "metadata": {},
   "outputs": [],
   "source": [
    "@cache\n",
    "def get_path(code, robot_type):\n",
    "    code_path = []\n",
    "    for pair in zip(code, code[1:]):\n",
    "        if robot_type == 0:\n",
    "            path = num_paths_cache[pair]\n",
    "        else:\n",
    "            path = key_paths_cache[pair]\n",
    "\n",
    "        code_path.extend(path)\n",
    "        code_path.append(\"A\")\n",
    "    return code_path"
   ]
  },
  {
   "cell_type": "code",
   "execution_count": 6,
   "metadata": {},
   "outputs": [],
   "source": [
    "@cache\n",
    "def get_keypad_len(code, num_robots, robot_type=0):\n",
    "    if num_robots == 0:\n",
    "        return len(code)\n",
    "    \n",
    "    total_moves = 0\n",
    "    for pair in zip(('A',) + code, code):\n",
    "        if robot_type == 0:\n",
    "            paths = num_paths_cache[pair]\n",
    "        else:\n",
    "            paths = key_paths_cache[pair]\n",
    "\n",
    "        total_moves += min(get_keypad_len(path + ('A',), num_robots - 1, 1) for path in paths)\n",
    "    \n",
    "    return total_moves"
   ]
  },
  {
   "cell_type": "code",
   "execution_count": 7,
   "metadata": {},
   "outputs": [],
   "source": [
    "def get_complexity(codes, num_robots):\n",
    "    return sum(get_keypad_len(tuple(list(code)), num_robots + 1) * int(code[:-1]) for code in codes)"
   ]
  },
  {
   "cell_type": "code",
   "execution_count": 8,
   "metadata": {},
   "outputs": [],
   "source": [
    "codes = []\n",
    "\n",
    "input_file = \"simple_input.txt\"\n",
    "with open(input_file) as f:\n",
    "    instructions = f.readlines()\n",
    "    \n",
    "    num_pad_combos = product(\"0123456789A\", repeat=2)\n",
    "    for combo in num_pad_combos:\n",
    "        num_paths_cache[combo] = bfs(0, combo[0], combo[1])\n",
    "        \n",
    "    key_pad_combos = product(\"<^>vA\", repeat=2)\n",
    "    for combo in key_pad_combos:\n",
    "        key_paths_cache[combo] = bfs(1, combo[0], combo[1])\n",
    "\n",
    "    codes = [code.strip() for code in instructions]"
   ]
  },
  {
   "cell_type": "code",
   "execution_count": 9,
   "metadata": {},
   "outputs": [],
   "source": [
    "def part1(codes):\n",
    "    return get_complexity(codes, 2)"
   ]
  },
  {
   "cell_type": "code",
   "execution_count": 10,
   "metadata": {},
   "outputs": [],
   "source": [
    "def part2(codes):\n",
    "    return get_complexity(codes, 25)"
   ]
  },
  {
   "cell_type": "code",
   "execution_count": 11,
   "metadata": {},
   "outputs": [
    {
     "data": {
      "text/plain": [
       "1972"
      ]
     },
     "execution_count": 11,
     "metadata": {},
     "output_type": "execute_result"
    }
   ],
   "source": [
    "part1(codes)"
   ]
  },
  {
   "cell_type": "code",
   "execution_count": 12,
   "metadata": {},
   "outputs": [
    {
     "data": {
      "text/plain": [
       "2379451789590"
      ]
     },
     "execution_count": 12,
     "metadata": {},
     "output_type": "execute_result"
    }
   ],
   "source": [
    "part2(codes)"
   ]
  },
  {
   "cell_type": "markdown",
   "metadata": {},
   "source": [
    "# Visualization"
   ]
  },
  {
   "cell_type": "code",
   "execution_count": 13,
   "metadata": {},
   "outputs": [],
   "source": [
    "@cache\n",
    "def get_keypad_path(code, num_robots, robot_type=0):\n",
    "    if num_robots == 0:\n",
    "        return code\n",
    "    \n",
    "    complete_path = []\n",
    "    for pair in zip(('A',) + code, code):\n",
    "        if robot_type == 0:\n",
    "            paths = num_paths_cache[pair]\n",
    "        else:\n",
    "            paths = key_paths_cache[pair]\n",
    "\n",
    "        complete_path += min([get_keypad_path(path + ('A',), num_robots - 1, 1) for path in paths], key=len)\n",
    "    \n",
    "    return complete_path"
   ]
  },
  {
   "cell_type": "code",
   "execution_count": 14,
   "metadata": {},
   "outputs": [
    {
     "data": {
      "text/plain": [
       "['029A']"
      ]
     },
     "execution_count": 14,
     "metadata": {},
     "output_type": "execute_result"
    }
   ],
   "source": [
    "codes"
   ]
  },
  {
   "cell_type": "code",
   "execution_count": 61,
   "metadata": {},
   "outputs": [],
   "source": [
    "presses = \"\".join(get_keypad_path(tuple(list(codes[0])), 1))"
   ]
  },
  {
   "cell_type": "code",
   "execution_count": 75,
   "metadata": {},
   "outputs": [],
   "source": [
    "class Keypad:\n",
    "    def __init__(self, key_type):\n",
    "        self.key_type = key_type\n",
    "        if key_type == 0:\n",
    "            self.keys = [\n",
    "                ['7', '8', '9'],\n",
    "                ['4', '5', '6'],\n",
    "                ['1', '2', '3'],\n",
    "                [' ', '0', 'A']\n",
    "            ]\n",
    "        else:\n",
    "            self.keys = [\n",
    "                [' ', '^', 'A'],\n",
    "                ['<', 'v', '>'],\n",
    "            ]\n",
    "        self.pointer = 'A'\n",
    "        self.pressed = False\n",
    "    \n",
    "    def process_input(self, instruction):\n",
    "        if instruction == 'A':\n",
    "            self.pressed = True\n",
    "        \n",
    "        pad = N_PAD if self.key_type == 0 else D_PAD\n",
    "        \n",
    "        for next, dir in pad[self.pointer]:\n",
    "            if instruction == dir:\n",
    "                self.pointer = next\n",
    "                break\n",
    "\n",
    "    def __str__(self):\n",
    "        border = \"+---+---+---+\"\n",
    "        lines = []\n",
    "        for row in self.keys:\n",
    "            lines.append(border)\n",
    "            line = \"\"\n",
    "            for key in row:\n",
    "                if key == self.pointer:\n",
    "                    if self.pressed:\n",
    "                        line += f\"|\\033[41m {key} \\033[0m\"\n",
    "                    else:\n",
    "                        line += f\"|\\033[93m {key} \\033[0m\"\n",
    "                else:\n",
    "                    line += f\"| {key} \"\n",
    "            line += \"|\"\n",
    "            lines.append(line)\n",
    "        lines.append(border)\n",
    "        return \"\\n\".join(lines)"
   ]
  },
  {
   "cell_type": "code",
   "execution_count": 76,
   "metadata": {},
   "outputs": [
    {
     "data": {
      "text/plain": [
       "'<A^A>^^AvvvA'"
      ]
     },
     "execution_count": 76,
     "metadata": {},
     "output_type": "execute_result"
    }
   ],
   "source": [
    "presses"
   ]
  },
  {
   "cell_type": "code",
   "execution_count": 79,
   "metadata": {},
   "outputs": [
    {
     "name": "stdout",
     "output_type": "stream",
     "text": [
      "+---+---+---+\n",
      "| 7 | 8 | 9 |\n",
      "+---+---+---+\n",
      "| 4 | 5 | 6 |\n",
      "+---+---+---+\n",
      "| 1 | 2 | 3 |\n",
      "+---+---+---+\n",
      "|   |\u001b[93m 0 \u001b[0m| A |\n",
      "+---+---+---+\n",
      "+---+---+---+\n",
      "| 7 | 8 | 9 |\n",
      "+---+---+---+\n",
      "| 4 | 5 | 6 |\n",
      "+---+---+---+\n",
      "| 1 | 2 | 3 |\n",
      "+---+---+---+\n",
      "|   |\u001b[41m 0 \u001b[0m| A |\n",
      "+---+---+---+\n",
      "+---+---+---+\n",
      "| 7 | 8 | 9 |\n",
      "+---+---+---+\n",
      "| 4 | 5 | 6 |\n",
      "+---+---+---+\n",
      "| 1 |\u001b[93m 2 \u001b[0m| 3 |\n",
      "+---+---+---+\n",
      "|   | 0 | A |\n",
      "+---+---+---+\n",
      "+---+---+---+\n",
      "| 7 | 8 | 9 |\n",
      "+---+---+---+\n",
      "| 4 | 5 | 6 |\n",
      "+---+---+---+\n",
      "| 1 |\u001b[41m 2 \u001b[0m| 3 |\n",
      "+---+---+---+\n",
      "|   | 0 | A |\n",
      "+---+---+---+\n",
      "+---+---+---+\n",
      "| 7 | 8 | 9 |\n",
      "+---+---+---+\n",
      "| 4 | 5 | 6 |\n",
      "+---+---+---+\n",
      "| 1 | 2 |\u001b[93m 3 \u001b[0m|\n",
      "+---+---+---+\n",
      "|   | 0 | A |\n",
      "+---+---+---+\n",
      "+---+---+---+\n",
      "| 7 | 8 | 9 |\n",
      "+---+---+---+\n",
      "| 4 | 5 |\u001b[93m 6 \u001b[0m|\n",
      "+---+---+---+\n",
      "| 1 | 2 | 3 |\n",
      "+---+---+---+\n",
      "|   | 0 | A |\n",
      "+---+---+---+\n",
      "+---+---+---+\n",
      "| 7 | 8 |\u001b[93m 9 \u001b[0m|\n",
      "+---+---+---+\n",
      "| 4 | 5 | 6 |\n",
      "+---+---+---+\n",
      "| 1 | 2 | 3 |\n",
      "+---+---+---+\n",
      "|   | 0 | A |\n",
      "+---+---+---+\n",
      "+---+---+---+\n",
      "| 7 | 8 |\u001b[41m 9 \u001b[0m|\n",
      "+---+---+---+\n",
      "| 4 | 5 | 6 |\n",
      "+---+---+---+\n",
      "| 1 | 2 | 3 |\n",
      "+---+---+---+\n",
      "|   | 0 | A |\n",
      "+---+---+---+\n",
      "+---+---+---+\n",
      "| 7 | 8 | 9 |\n",
      "+---+---+---+\n",
      "| 4 | 5 |\u001b[93m 6 \u001b[0m|\n",
      "+---+---+---+\n",
      "| 1 | 2 | 3 |\n",
      "+---+---+---+\n",
      "|   | 0 | A |\n",
      "+---+---+---+\n",
      "+---+---+---+\n",
      "| 7 | 8 | 9 |\n",
      "+---+---+---+\n",
      "| 4 | 5 | 6 |\n",
      "+---+---+---+\n",
      "| 1 | 2 |\u001b[93m 3 \u001b[0m|\n",
      "+---+---+---+\n",
      "|   | 0 | A |\n",
      "+---+---+---+\n",
      "+---+---+---+\n",
      "| 7 | 8 | 9 |\n",
      "+---+---+---+\n",
      "| 4 | 5 | 6 |\n",
      "+---+---+---+\n",
      "| 1 | 2 | 3 |\n",
      "+---+---+---+\n",
      "|   | 0 |\u001b[93m A \u001b[0m|\n",
      "+---+---+---+\n",
      "+---+---+---+\n",
      "| 7 | 8 | 9 |\n",
      "+---+---+---+\n",
      "| 4 | 5 | 6 |\n",
      "+---+---+---+\n",
      "| 1 | 2 | 3 |\n",
      "+---+---+---+\n",
      "|   | 0 |\u001b[41m A \u001b[0m|\n",
      "+---+---+---+\n"
     ]
    }
   ],
   "source": [
    "import os\n",
    "import time\n",
    "\n",
    "keys = Keypad(0)\n",
    "for press in presses:\n",
    "    keys.process_input(press)\n",
    "    print(keys)\n",
    "    os.system('clear')\n",
    "    time.sleep(0.1)\n",
    "    keys.pressed = False\n",
    "    "
   ]
  },
  {
   "cell_type": "code",
   "execution_count": 66,
   "metadata": {},
   "outputs": [
    {
     "name": "stdout",
     "output_type": "stream",
     "text": [
      "-----------------\n",
      "+---+---+---+\n",
      "|   | ^ |\u001b[93m A \u001b[0m|\n",
      "+---+---+---+\n",
      "| < | v | > |\n",
      "+---+---+---+\n",
      "-----------------\n",
      "+---+---+---+\n",
      "|   | ^ |\u001b[93m A \u001b[0m|\n",
      "+---+---+---+\n",
      "| < | v | > |\n",
      "+---+---+---+\n",
      "-----------------\n",
      "+---+---+---+\n",
      "| 1 | 2 | 3 |\n",
      "+---+---+---+\n",
      "| 4 | 5 | 6 |\n",
      "+---+---+---+\n",
      "| 7 | 8 | 9 |\n",
      "+---+---+---+\n",
      "|\u001b[93m A \u001b[0m| 0 | B |\n",
      "+---+---+---+\n"
     ]
    }
   ],
   "source": [
    "keypads = [Keypad(1), Keypad(1), Keypad(0)]\n",
    "\n",
    "for keypad in keypads:\n",
    "    print(\"-----------------\")\n",
    "    print(keypad)"
   ]
  }
 ],
 "metadata": {
  "kernelspec": {
   "display_name": ".venv",
   "language": "python",
   "name": "python3"
  },
  "language_info": {
   "codemirror_mode": {
    "name": "ipython",
    "version": 3
   },
   "file_extension": ".py",
   "mimetype": "text/x-python",
   "name": "python",
   "nbconvert_exporter": "python",
   "pygments_lexer": "ipython3",
   "version": "3.13.0"
  }
 },
 "nbformat": 4,
 "nbformat_minor": 2
}
