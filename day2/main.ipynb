{
 "cells": [
  {
   "cell_type": "markdown",
   "metadata": {},
   "source": [
    "# The regular, readable solutions"
   ]
  },
  {
   "cell_type": "code",
   "execution_count": 67,
   "metadata": {},
   "outputs": [],
   "source": [
    "def read_input():\n",
    "    with open(\"input.txt\") as f:\n",
    "        return f.readlines()\n",
    "\n",
    "inputs = read_input()"
   ]
  },
  {
   "cell_type": "code",
   "execution_count": 68,
   "metadata": {},
   "outputs": [],
   "source": [
    "class Game:\n",
    "    def __init__(self, game_string):\n",
    "        parts = game_string.split(':')\n",
    "        self.game_id = int(parts[0].split()[1])\n",
    "        \n",
    "        self.draws = parts[1].split(';')\n",
    "        self.draws = [draw.strip().split(',') for draw in self.draws]\n",
    "        self.draws = [[[int(color.split()[0]), color.split()[1]] for color in draw] for draw in self.draws]\n",
    "\n",
    "    def draw_too_large(self, color, count):\n",
    "        for draw in self.draws:\n",
    "            for cube in draw:\n",
    "                if cube[1] == color and cube[0] > count:\n",
    "                    return True\n",
    "        return False\n",
    "\n",
    "    def get_max_for_color(self, color):\n",
    "        max_count = 0\n",
    "        for draw in self.draws:\n",
    "            for cube in draw:\n",
    "                if cube[1] == color:\n",
    "                    max_count = max(max_count, cube[0])\n",
    "        return max_count\n",
    "    \n",
    "    def get_power_of_max_cubes(self):\n",
    "        max_red = self.get_max_for_color('red')\n",
    "        max_green = self.get_max_for_color('green')\n",
    "        max_blue = self.get_max_for_color('blue')\n",
    "\n",
    "        return max_red * max_green * max_blue"
   ]
  },
  {
   "cell_type": "code",
   "execution_count": 69,
   "metadata": {},
   "outputs": [
    {
     "name": "stdout",
     "output_type": "stream",
     "text": [
      "2913\n"
     ]
    }
   ],
   "source": [
    "# Part 1\n",
    "total = 0\n",
    "\n",
    "for line in inputs:\n",
    "    game = Game(line)\n",
    "    if not game.draw_too_large('red', 12) and not game.draw_too_large('green', 13) and not game.draw_too_large('blue', 14):\n",
    "        total += game.game_id\n",
    "\n",
    "print(total)"
   ]
  },
  {
   "cell_type": "code",
   "execution_count": 70,
   "metadata": {},
   "outputs": [
    {
     "name": "stdout",
     "output_type": "stream",
     "text": [
      "55593\n"
     ]
    }
   ],
   "source": [
    "# Part 2\n",
    "\n",
    "total = 0\n",
    "\n",
    "for line in inputs:\n",
    "    game = Game(line)\n",
    "    total += game.get_power_of_max_cubes()\n",
    "\n",
    "print(total)"
   ]
  },
  {
   "cell_type": "markdown",
   "metadata": {},
   "source": [
    "# Now for the one liners"
   ]
  },
  {
   "cell_type": "code",
   "execution_count": 71,
   "metadata": {},
   "outputs": [],
   "source": [
    "class Game:\n",
    "    def __init__(self, game_string):\n",
    "        parts = game_string.split(':')\n",
    "        self.game_id = int(parts[0].split()[1])\n",
    "        self.draws = [[[int(color.split()[0]), color.split()[1]] for color in draw.strip().split(',')] for draw in parts[1].split(';')]\n",
    "    \n",
    "    def draw_too_large(self, color, count):\n",
    "        return any([cube[0] > count for draw in self.draws for cube in draw if cube[1] == color])\n",
    "\n",
    "    def get_max_for_color(self, color):\n",
    "        return max([cube[0] for draw in self.draws for cube in draw if cube[1] == color])\n",
    "    \n",
    "    def get_power_of_max_cubes(self):\n",
    "        return self.get_max_for_color('red') * self.get_max_for_color('green') * self.get_max_for_color('blue')"
   ]
  },
  {
   "cell_type": "code",
   "execution_count": 72,
   "metadata": {},
   "outputs": [
    {
     "name": "stdout",
     "output_type": "stream",
     "text": [
      "2913\n",
      "55593\n"
     ]
    }
   ],
   "source": [
    "# Part 1\n",
    "print(sum([Game(line).game_id for line in inputs if not Game(line).draw_too_large('red', 12) and not Game(line).draw_too_large('green', 13) and not Game(line).draw_too_large('blue', 14)]))\n",
    "\n",
    "# Part 2\n",
    "print(sum([Game(line).get_power_of_max_cubes() for line in inputs]))"
   ]
  },
  {
   "cell_type": "markdown",
   "metadata": {},
   "source": [
    "# One line for each solution"
   ]
  },
  {
   "cell_type": "code",
   "execution_count": 73,
   "metadata": {},
   "outputs": [
    {
     "name": "stdout",
     "output_type": "stream",
     "text": [
      "2913\n",
      "55593\n"
     ]
    }
   ],
   "source": [
    "# Part 1\n",
    "print(sum([Game(line).game_id for line in inputs if not any([cube[0] > 12 for draw in [[[int(color.split()[0]), color.split()[1]] for color in draw.strip().split(',')] for draw in line.split(':')[1].split(';')] for cube in draw if cube[1] == 'red']) and not any([cube[0] > 13 for draw in [[[int(color.split()[0]), color.split()[1]] for color in draw.strip().split(',')] for draw in line.split(':')[1].split(';')] for cube in draw if cube[1] == 'green']) and not any([cube[0] > 14 for draw in [[[int(color.split()[0]), color.split()[1]] for color in draw.strip().split(',')] for draw in line.split(':')[1].split(';')] for cube in draw if cube[1] == 'blue'])]))\n",
    "\n",
    "# Part 2\n",
    "print(sum([max([cube[0] for draw in [[[int(color.split()[0]), color.split()[1]] for color in draw.strip().split(',')] for draw in line.split(':')[1].split(';')] for cube in draw if cube[1] == 'red']) * max([cube[0] for draw in [[[int(color.split()[0]), color.split()[1]] for color in draw.strip().split(',')] for draw in line.split(':')[1].split(';')] for cube in draw if cube[1] == 'green']) * max([cube[0] for draw in [[[int(color.split()[0]), color.split()[1]] for color in draw.strip().split(',')] for draw in line.split(':')[1].split(';')] for cube in draw if cube[1] == 'blue']) for line in inputs]))"
   ]
  },
  {
   "cell_type": "markdown",
   "metadata": {},
   "source": [
    "# The gigaline"
   ]
  },
  {
   "cell_type": "code",
   "execution_count": 74,
   "metadata": {},
   "outputs": [
    {
     "name": "stdout",
     "output_type": "stream",
     "text": [
      "2913 55593\n"
     ]
    }
   ],
   "source": [
    "# Part 1 and 2\n",
    "print(sum([Game(line).game_id for line in inputs if not any([cube[0] > 12 for draw in [[[int(color.split()[0]), color.split()[1]] for color in draw.strip().split(',')] for draw in line.split(':')[1].split(';')] for cube in draw if cube[1] == 'red']) and not any([cube[0] > 13 for draw in [[[int(color.split()[0]), color.split()[1]] for color in draw.strip().split(',')] for draw in line.split(':')[1].split(';')] for cube in draw if cube[1] == 'green']) and not any([cube[0] > 14 for draw in [[[int(color.split()[0]), color.split()[1]] for color in draw.strip().split(',')] for draw in line.split(':')[1].split(';')] for cube in draw if cube[1] == 'blue'])]), sum([max([cube[0] for draw in [[[int(color.split()[0]), color.split()[1]] for color in draw.strip().split(',')] for draw in line.split(':')[1].split(';')] for cube in draw if cube[1] == 'red']) * max([cube[0] for draw in [[[int(color.split()[0]), color.split()[1]] for color in draw.strip().split(',')] for draw in line.split(':')[1].split(';')] for cube in draw if cube[1] == 'green']) * max([cube[0] for draw in [[[int(color.split()[0]), color.split()[1]] for color in draw.strip().split(',')] for draw in line.split(':')[1].split(';')] for cube in draw if cube[1] == 'blue']) for line in inputs]))"
   ]
  }
 ],
 "metadata": {
  "kernelspec": {
   "display_name": "Python 3",
   "language": "python",
   "name": "python3"
  },
  "language_info": {
   "codemirror_mode": {
    "name": "ipython",
    "version": 3
   },
   "file_extension": ".py",
   "mimetype": "text/x-python",
   "name": "python",
   "nbconvert_exporter": "python",
   "pygments_lexer": "ipython3",
   "version": "3.11.6"
  }
 },
 "nbformat": 4,
 "nbformat_minor": 2
}
